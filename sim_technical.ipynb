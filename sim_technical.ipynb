{
  "nbformat": 4,
  "nbformat_minor": 0,
  "metadata": {
    "colab": {
      "name": "sim_technical.ipynb",
      "version": "0.3.2",
      "provenance": [],
      "collapsed_sections": [],
      "include_colab_link": true
    },
    "kernelspec": {
      "name": "python3",
      "display_name": "Python 3"
    }
  },
  "cells": [
    {
      "cell_type": "markdown",
      "metadata": {
        "id": "view-in-github",
        "colab_type": "text"
      },
      "source": [
        "<a href=\"https://colab.research.google.com/github/hei2000/Accounting-system/blob/master/sim_technical.ipynb\" target=\"_parent\"><img src=\"https://colab.research.google.com/assets/colab-badge.svg\" alt=\"Open In Colab\"/></a>"
      ]
    },
    {
      "cell_type": "code",
      "metadata": {
        "id": "rkswg0kjDA0f",
        "colab_type": "code",
        "colab": {
          "base_uri": "https://localhost:8080/",
          "height": 915
        },
        "outputId": "ce1ea049-b546-4711-819d-504ca6072400"
      },
      "source": [
        "#we assume that the slope is negative for a while(derivative always negative)\n",
        "import numpy as np\n",
        "import numpy.random as rnd\n",
        "import matplotlib.pyplot as plt\n",
        "\n",
        "def ex_L_th(th,n,k):\n",
        "    x = np.zeros(n+1)\n",
        "    c = np.zeros(n)\n",
        "    x[0] = 10\n",
        "    total = 0\n",
        "    for i in range (k):\n",
        "      for i in range (n):\n",
        "          u = rnd.exponential(1/th)\n",
        "          if (u + 5 <= x[i]):\n",
        "              x[i+1] = x[i] - u\n",
        "          else:\n",
        "              x[i+1] = 10\n",
        "          if u <= x[i] - 5:\n",
        "              c[i] = 2 * (x[i] - u)\n",
        "          if ((x[i] - 5 <= u) and (u <= x[i])):\n",
        "              c[i] = 2 * (x[i] - u) + 10\n",
        "          if (x[i] < u):\n",
        "              c[i] = 8 * (u - x[i]) + 10\n",
        "      total += sum(c)/n\n",
        "    print(\"L(0): \",total/k)\n",
        "    return total/k\n",
        "\n",
        "def appro(th0,m,n,ep,k):\n",
        "    theta = np.zeros(m)\n",
        "    theta[0] = th0\n",
        "    for i in range(m-1):\n",
        "      theta[i+1] = theta[i] + ep * (ex_L_th(theta[i],n,k)-37)#/(i+1)\n",
        "      print(\"theta: \",theta[i])\n",
        "    return theta\n",
        "\n",
        "#stopping function():\n",
        "\n",
        "def main():\n",
        "    th0 = 0.1\n",
        "    m = 20\n",
        "    n = 30000\n",
        "    k = 10\n",
        "    ep = 0.0011\n",
        "    #seed = 12345\n",
        "    #rnd.seed(seed)\n",
        "    theta = appro(th0,m,n,ep,k)\n",
        "    plt.plot(np.arange(m),theta)\n",
        "    plt.show()\n",
        "\n",
        "main()\n"
      ],
      "execution_count": 27,
      "outputs": [
        {
          "output_type": "stream",
          "text": [
            "L(0):  45.57102255536954\n",
            "theta:  0.1\n",
            "L(0):  37.97631950341483\n",
            "theta:  0.11542784059966517\n",
            "L(0):  37.526694150803245\n",
            "theta:  0.11630652815273851\n",
            "L(0):  37.656518792937376\n",
            "theta:  0.11662254464322046\n",
            "L(0):  37.45171273042102\n",
            "theta:  0.11691797810004227\n",
            "L(0):  37.48860978323099\n",
            "theta:  0.11708059468299384\n",
            "L(0):  37.22873365854159\n",
            "theta:  0.11722717761796314\n",
            "L(0):  37.3991606691668\n",
            "theta:  0.11728599484444527\n",
            "L(0):  37.243548846915274\n",
            "theta:  0.1173758059950078\n",
            "L(0):  37.19895043791895\n",
            "theta:  0.11742451576439085\n",
            "L(0):  37.273369525147\n",
            "theta:  0.11746032684321626\n",
            "L(0):  37.18346566288423\n",
            "theta:  0.11750506003824032\n",
            "L(0):  37.40998024180627\n",
            "theta:  0.11753257988767296\n",
            "L(0):  37.29869126793594\n",
            "theta:  0.11758934638269229\n",
            "L(0):  37.25363458426358\n",
            "theta:  0.11762774954571263\n",
            "L(0):  37.14968037969324\n",
            "theta:  0.11765818569582426\n",
            "L(0):  37.167349549457356\n",
            "theta:  0.11767502473853975\n",
            "L(0):  37.30887255278878\n",
            "theta:  0.11769274410259993\n",
            "L(0):  37.01015535875156\n",
            "theta:  0.1177236313578788\n"
          ],
          "name": "stdout"
        },
        {
          "output_type": "display_data",
          "data": {
            "image/png": "[encoded data removed]",
            "text/plain": [
              "<Figure size 432x288 with 1 Axes>"
            ]
          },
          "metadata": {
            "tags": []
          }
        }
      ]
    }
  ]
}